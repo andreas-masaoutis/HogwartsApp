{
 "cells": [
  {
   "cell_type": "markdown",
   "metadata": {},
   "source": [
    "## Dashboard - a look into the data\n",
    "This notebook is about looking into the data. We leverage the power of Dash to create interactive graphs that allow the user to explore aspects of the dataset"
   ]
  },
  {
   "cell_type": "code",
   "execution_count": 1,
   "metadata": {},
   "outputs": [],
   "source": [
    "import pandas as pd\n",
    "from tinydb import TinyDB, Query\n",
    "from jupyter_plotly_dash import JupyterDash\n",
    "from plotly import graph_objects as go\n",
    "import dash\n",
    "import dash_core_components as dcc\n",
    "import dash_html_components as html\n",
    "from dash.dependencies import Input, Output\n",
    "import plotly.express as px\n",
    "import numpy as np"
   ]
  },
  {
   "cell_type": "code",
   "execution_count": null,
   "metadata": {},
   "outputs": [],
   "source": []
  },
  {
   "cell_type": "code",
   "execution_count": 2,
   "metadata": {},
   "outputs": [],
   "source": [
    "## We brought all the necessary data tranformations from the Analysis script\n",
    "\n",
    "db = TinyDB('data\\hogwarts.json')\n",
    "\n",
    "cleaned_users = db.table('cleaned_users')\n",
    "cleaned_actions = db.table('cleaned_actions') \n",
    "\n",
    "users_df = pd.DataFrame(cleaned_users.all())\n",
    "actions_df = pd.DataFrame(cleaned_actions.all())\n",
    "\n",
    "db.close()\n",
    "\n",
    "\n",
    "combined_users_actions = pd.merge(\n",
    "    users_df, actions_df, on=\"user_id\", how=\"outer\", validate= \"1:m\", indicator=True)\n",
    "\n",
    "\n",
    "## Due to a bug there is a user without any actions. We drop the user, and then the _merge column\n",
    "combined_users_actions =  combined_users_actions[combined_users_actions['_merge'] == 'both' ]\n",
    "combined_users_actions.drop(columns='_merge', inplace=True)\n",
    "\n",
    "\n",
    "## We get the old action_timestamp and add unique integers - the index -> new action_timestamp with no duplicates\n",
    "combined_users_actions['action_timestamp'] = \\\n",
    "    combined_users_actions.apply( lambda x : x['action_timestamp'] + '.' +str(x.name).zfill(6) , axis=1)\n",
    "\n",
    "\n",
    "## Like before we cast the string representation of date into datetime for the advanced capabilities of the type\n",
    "combined_users_actions['account_ts_to_dt'] = combined_users_actions.account_creation_timestamp.apply(pd.to_datetime)\n",
    "combined_users_actions['action_ts_to_dt'] = combined_users_actions.action_timestamp.apply(pd.to_datetime)\n",
    "\n",
    "\n",
    "## We'll start working with the time difference between registration and action - we start with each action separately.\n",
    "combined_users_actions['time_diff_in_hour'] = \\\n",
    "(   \n",
    "    combined_users_actions.action_timestamp.apply(pd.to_datetime) - \\\n",
    "    combined_users_actions.account_creation_timestamp.apply(pd.to_datetime)\n",
    "\n",
    ").apply( lambda x: round(x.total_seconds() / (60*60), 0) )\n",
    "\n",
    "df = combined_users_actions"
   ]
  },
  {
   "cell_type": "code",
   "execution_count": null,
   "metadata": {},
   "outputs": [],
   "source": []
  },
  {
   "cell_type": "code",
   "execution_count": 4,
   "metadata": {
    "scrolled": true
   },
   "outputs": [
    {
     "data": {
      "text/html": [
       "<div>\n",
       "  <iframe src=\"/app/endpoints/3d48dcb2b6a548599c2a0e524c90e3b7/\" width=800 height=600 frameborder=\"0\"></iframe>\n",
       "  <hr/><a href=\"/app/endpoints/3d48dcb2b6a548599c2a0e524c90e3b7/\" target=\"_new\">Open in new window</a> for /app/endpoints/3d48dcb2b6a548599c2a0e524c90e3b7/\n",
       "</div>"
      ],
      "text/plain": [
       "<jupyter_plotly_dash.dash_wrapper.JupyterDash at 0x223764effd0>"
      ]
     },
     "execution_count": 4,
     "metadata": {},
     "output_type": "execute_result"
    }
   ],
   "source": [
    "\n",
    "\n",
    "\n",
    "app = JupyterDash('Hogwarts dashboard2')\n",
    "\n",
    "available_indicators = list(df.house.unique())\n",
    "\n",
    "\n",
    "app.layout = html.Div(children=[\n",
    "    html.H1(children='Actions as a percentage of total actions'),\n",
    "\n",
    "    html.Div([dcc.Markdown('''\n",
    "        \n",
    "        We present the count for all actions, as a percentage.\n",
    "        \n",
    "        We use two filters:\n",
    "        - 1. The four houses students belong to\n",
    "        - 2. The time range when actions take place: how long ago since registration?\n",
    "   ''' )]),\n",
    "    \n",
    "    dcc.Dropdown(\n",
    "                id='dropdown',\n",
    "                options=[{'label': i, 'value': i} for i in available_indicators],\n",
    "                value='Gryffindor'\n",
    "            ),\n",
    "\n",
    "    dcc.Graph(id='hogwarts-graph'),\n",
    "    \n",
    "    dcc.RangeSlider(\n",
    "        id='time-range-slider',\n",
    "        min=df.time_diff_in_hour.min(),\n",
    "        max=df.time_diff_in_hour.max(),\n",
    "        step=0.25,\n",
    "        value=[140,1060],\n",
    "        marks = {(i): str(i)+'min' for (i) in range( 0, int(df.time_diff_in_hour.max()), 120)},\n",
    "        allowCross=False\n",
    "    )\n",
    "])\n",
    "\n",
    "\n",
    "@app.callback(\n",
    "    Output('hogwarts-graph', 'figure'),\n",
    "    [Input('dropdown', 'value')\n",
    "    ,Input('time-range-slider', 'value')\n",
    "    ]\n",
    ")\n",
    "def update_figure(selected_house, time_range):\n",
    "    house = selected_house\n",
    "    left_limit, right_limit = time_range[0], time_range[1]\n",
    "    \n",
    "    less_than = df[df['house'] == house].query(\n",
    "        'time_diff_in_hour < {} '.format(left_limit)).groupby(\n",
    "        'action')[['user_id','action_timestamp']].count()\n",
    "\n",
    "    more_than = df[df['house'] == house].query(\n",
    "        'time_diff_in_hour > {} '.format(right_limit)).groupby(\n",
    "        'action')[['user_id','action_timestamp']].count()\n",
    "\n",
    "    less_than['percent'] = (less_than['user_id'] / less_than['user_id'].sum()) * 100\n",
    "\n",
    "    more_than['percent'] = (more_than['user_id'] / more_than['user_id'].sum()) * 100\n",
    "    \n",
    "    fig4 = go.Figure(\n",
    "        data=[\n",
    "            go.Bar(\n",
    "                name=\"< {} min\".format(left_limit),\n",
    "                x=less_than.index,\n",
    "                y=less_than[\"percent\"],\n",
    "                offsetgroup=0,\n",
    "            ),\n",
    "            go.Bar(\n",
    "                name=\"> {} min\".format(right_limit),\n",
    "                x=more_than.index,\n",
    "                y=more_than['percent'],\n",
    "                offsetgroup=1,\n",
    "            ),\n",
    "        ],\n",
    "        layout=go.Layout(\n",
    "            title=\"Actions as percentage of total actions, for two groups. House is {}. Num of actions A:{}, B:{} \".format(\n",
    "                house\n",
    "                ,less_than.user_id.sum()\n",
    "                ,more_than.user_id.sum() \n",
    "                ),\n",
    "            yaxis_title=\"Actions in percentage\"\n",
    "        )\n",
    "    )\n",
    "    fig4.update_xaxes(\n",
    "        tickangle = 45,\n",
    "        title_text = \"Actions\")\n",
    "\n",
    "    return fig4\n",
    "\n",
    "\n",
    "app"
   ]
  },
  {
   "cell_type": "code",
   "execution_count": null,
   "metadata": {},
   "outputs": [],
   "source": []
  }
 ],
 "metadata": {
  "interpreter": {
   "hash": "3d1e9e7fc8401b8bf48bb794873102548a68002dc3e0e312dbc742c21dfe0121"
  },
  "kernelspec": {
   "display_name": "Python 3 (ipykernel)",
   "language": "python",
   "name": "python3"
  },
  "language_info": {
   "codemirror_mode": {
    "name": "ipython",
    "version": 3
   },
   "file_extension": ".py",
   "mimetype": "text/x-python",
   "name": "python",
   "nbconvert_exporter": "python",
   "pygments_lexer": "ipython3",
   "version": "3.9.1"
  }
 },
 "nbformat": 4,
 "nbformat_minor": 4
}
